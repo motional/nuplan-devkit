{
 "cells": [
  {
   "cell_type": "markdown",
   "id": "267c455e",
   "metadata": {},
   "source": [
    "<img src=\"media/nuplan.png\" alt=\"Drawing\" style=\"width: 700px;\"/>"
   ]
  },
  {
   "cell_type": "markdown",
   "id": "307c1c46",
   "metadata": {},
   "source": [
    "# Introduction to nuPlan <a name=\"introduction\"></a>\n"
   ]
  },
  {
   "cell_type": "markdown",
   "id": "6a7e1d9a",
   "metadata": {},
   "source": [
    "Welcome to nuPlan! This notebook will explore the nuPlan simulation framework, training platform as well as the nuBoard metrics/scenarios visualization dashboard."
   ]
  },
  {
   "cell_type": "markdown",
   "id": "8b72dcd8",
   "metadata": {},
   "source": [
    "## Contents\n",
    "\n",
    "1. [Introduction to nuPlan](#introduction)\n",
    "2. [Training an ML planner](#training)\n",
    "3. [Simulating a planner](#simulation)\n",
    "4. [Visualizing metrics and scenarios](#dashboard)"
   ]
  },
  {
   "cell_type": "markdown",
   "id": "b85dd12b",
   "metadata": {},
   "source": [
    "## What is nuPlan\n",
    "\n",
    "nuPlan is the world’s first closed-loop ML-based planning benchmark for autonomous driving.\n",
    "\n",
    "It provides a high quality dataset with 1500h of human driving data from 4 cities across the US and Asia with widely varying traffic patterns (Boston, Pittsburgh, Las Vegas and Singapore). In addition, it provides a closed-loop simulation framework with reactive agents, a training platform as well as a large set of both general and scenario-specific planning metrics."
   ]
  },
  {
   "cell_type": "markdown",
   "id": "1026864f",
   "metadata": {},
   "source": [
    "## Training & simulation framework\n",
    "\n",
    "The nuPlan training and simulation framework aims to:\n",
    "* create a simulation pipeline to evaluate a planner on large dataset with various scenarios\n",
    "* score planner performance with common and scenario-dependent metrics\n",
    "* compare planners based on measured metrics and provide intuitive visualizations\n",
    "* train planners with the provided framework to allow quick implementation and iteration\n",
    "* support closed-loop simulation and training\n",
    "\n",
    "<br />\n",
    "\n",
    "Framework overview\n",
    "\n",
    "<img src=\"media/framework.png\" alt=\"Drawing\" style=\"width: 700px;\"/>"
   ]
  },
  {
   "cell_type": "markdown",
   "id": "10f8452d",
   "metadata": {},
   "source": [
    "## Scenarios in nuPlan\n",
    "\n",
    "nuPlan aims to capture challenging yet representative scenarios from real-world encounters. This enables the benchmarking of planning systems both in expert imitation (open-loop) and reactive planning (closed-loop) settings.\n",
    "\n",
    "These scenarios includes:\n",
    "* highly interactive scenes with traffic participants (e.g. tailgating, high-velocity overtakes, double parked cars, jaywalking)\n",
    "* various ego behaviors (e.g. vehicle following, yielding, lane merging) and dynamics (e.g. mixed speed profiles, abrupt braking, speed bumps, high jerk maneuvers)\n",
    "* scene layouts of varied complexity (e.g. pudos, traffic/stop controlled intersections, unprotected turns) and temporary zones (e.g. construction areas)\n",
    "\n",
    "The dataset is automatically tagged with scenario labels based on certain primitive attributes. These scenario tags can then be used to extract representative metrics for the planner's evaluation.\n",
    "\n",
    "<br />\n",
    "\n",
    "Available scenarios (under development)\n",
    "\n",
    "<img src=\"media/scenarios.png\" alt=\"Drawing\" style=\"width: 700px;\"/>"
   ]
  },
  {
   "cell_type": "markdown",
   "id": "3cac58e6",
   "metadata": {},
   "source": [
    "To be able to access all resources within this notebook, make sure Jupyter is launched at the root of this repo. Then the path inside the notebook looks like: `/notebook/nuplan/..`."
   ]
  },
  {
   "cell_type": "code",
   "execution_count": null,
   "id": "49be514e",
   "metadata": {},
   "outputs": [],
   "source": [
    "# Increase notebook width\n",
    "from IPython.core.display import display, HTML\n",
    "display(HTML(\"<style>.output_result { max-width:100% !important; }</style>\"))\n",
    "display(HTML(\"<style>.container { width:100% !important; }</style>\"))"
   ]
  },
  {
   "cell_type": "code",
   "execution_count": null,
   "id": "bb997c54",
   "metadata": {},
   "outputs": [],
   "source": [
    "# Useful imports\n",
    "import os\n",
    "from pathlib import Path\n",
    "import tempfile\n",
    "\n",
    "import hydra"
   ]
  },
  {
   "cell_type": "code",
   "execution_count": null,
   "id": "9fef8746",
   "metadata": {},
   "outputs": [],
   "source": [
    "# Set downloaded model path from previous step to be used in simulation\n",
    "MODEL_PATH = f'/data/exp/{os.getlogin()}/nuplan_models/raster_model_8h.ckpt'"
   ]
  },
  {
   "cell_type": "markdown",
   "id": "bc819374",
   "metadata": {},
   "source": [
    "# 1) Training an ML planner <a name=\"training\"></a>"
   ]
  },
  {
   "cell_type": "markdown",
   "id": "6741d597",
   "metadata": {},
   "source": [
    "## Imitation learning\n",
    "In the following section we will train an ML planning policy with the aim estimate the ego's future trajectory and control the vehicle.\n",
    "\n",
    "The policy is learned through imitation learning, a supervised learning approach in which - in the context of autonomous driving - the behavior of an expert human driver is used as a target signal to supervise the model.\n",
    "\n",
    "## Model features & targets\n",
    "A planning policy consumes a set of episodic observations and encodes them through a deep neural network to regress a future trajectory.\n",
    "\n",
    "The observations can be historic or present ego and agent poses as well as static/dynamic map information across different map layers.<br />\n",
    "These signals can be encoded through various representations, such as raster or vector format for the map signal, each with their pros and cons for each model flavor.\n",
    "\n",
    "Using these input features the model predicts a discretized future trajectory across a fixed time horizon.<br />\n",
    "The trajectory consists of a set of discrete future states (position, heading and velocity) sampled at fixed intervals which express the likelihood of the vehicle being at that state in the future.<br />\n",
    "For example, a predicted trajectory may consist of 10 future poses sampled at intervals of 0.5s across a 5s horizon.\n",
    "\n",
    "## Learning objectives\n",
    "The policy is trained to maximize a set of aggregated objectives such as imitation, collision avoidance, traffic rule violation etc.<br />\n",
    "Imitation is the core training objective which indicates how close the predicted trajectory is to the expert ground truth and penalizes model predictions that deviate in space and time from the demonstration."
   ]
  },
  {
   "cell_type": "markdown",
   "id": "eef30aec",
   "metadata": {},
   "source": [
    "## Training parameters"
   ]
  },
  {
   "cell_type": "markdown",
   "id": "e0504ef0",
   "metadata": {},
   "source": [
    "The following parameter categories define the training protocol which includes the model, database, metrics, objectives etc.\n",
    "\n",
    "A working example composition of these parameters can be found in the next section.\n",
    "\n",
    "---\n",
    "\n",
    "### ML models\n",
    "\n",
    "Change the training model with `model=X` where `X` is a config yaml defined in the table below. \n",
    "\n",
    "| Model | Description | Config |\n",
    "| --- | --- | --- |\n",
    "| CNN raster model | Raster-based model that uses a CNN backbone to encode ego, agent and map information as raster layers<br />Any (pretrained) backbone from the TIMM library can be used (e.g. ResNet50, EfficientNetB3) | `raster_model` |\n",
    "| LaneGCN vector model | Vector-based model that uses a series of MLPs to encode ego and agent signals, a lane graph to encode vector-map elements and a fusion network to capture lane & agent intra/inter-interactions through attention layers<br />Implementation of LaneGCN paper (\"Learning Lane Graph Representations for Motion Forecasting\") | `vector_model` |\n",
    "| Toy vector model | Toy vector-based model that consumes ego, agent and lane signals through a series of MLPs | `simple_vector_model` |\n",
    "\n",
    "<br />\n",
    "\n",
    "### Training objectives\n",
    "\n",
    "Change the training objectives with `objective=[X, ...]` where `X` is a config yaml defined in the table below. \n",
    "\n",
    "| Objective | Description | Config |\n",
    "| --- | --- | --- |\n",
    "| Imitation objective | Penalizes the predicted trajectory that deviates from the expert demonstration | `imitation_objective` |\n",
    "| Collision objective | Penalizes the predicted trajectory that collides with other agents | Coming soon... |\n",
    "| Violation objective | Penalizes the predicted trajectory which is outside of the drivable area | Coming soon... |\n",
    "\n",
    "<br />\n",
    "\n",
    "### Training metrics\n",
    "\n",
    "Change the training objectives with `training_metric=[X, ...]` where `X` is a config yaml defined in the table below. \n",
    "\n",
    "| Metric | Description | Config |\n",
    "| --- | --- | --- |\n",
    "| Average displacement error | RMSE translation error across full predicted trajectory | `avg_displacement_error` |\n",
    "| Average heading error | RMSE heading error across full predicted trajectory | `avg_heading_error` |\n",
    "| Final displacement error | L2 error of predicted trajectory's final pose translation | `final_displacement_error` |\n",
    "| Final heading error | L2 error of predicted trajectory's final pose heading | `final_heading_error` |\n",
    "\n",
    "<br />\n",
    "\n",
    "### Scenario Builders\n",
    "\n",
    "Change the scenario_builder with `scenario_builder=<X>` where `X` is a config yaml defined in the table below. \n",
    "\n",
    "| Database | Description | Config |\n",
    "| --- | --- | --- |\n",
    "| nuplan_v0.2 | 102h of driving in LV with scenario tags (89 autolabeled logs) | `nuplan` |\n",
    "| nuplan_v0.2_mini | 2h of driving in LV with scenario tags (4 autolabeled logs) | `nuplan_mini`\n",
    "<br />\n",
    "\n",
    "### Scenario filters\n",
    "\n",
    "Change the type of scenario_filter with `scenario_builder/<database>/scenario_filter=<X>` where `X` is a config yaml defined in `script/common/scenario_builder/<database>/scenario_filter`. <br />\n",
    "Change a parameter of a scenario type with `scenario_builder.<database>.<X>` where `X` is a parameter in the scenario filter. <br />\n",
    "For nuPlan, the default scenario filters have the followiing parameters defined in the table below. \n",
    "\n",
    "| Filter | Description | Config |\n",
    "| --- | --- | --- |\n",
    "| log_names | List of logs name to extract scenarios from | `scenario_builder.nuplan.scenario_filter.log_names` |\n",
    "| log_labels | Log tags used to filter logs | `scenario_builder.nuplan.scenario_filter.log_labels` |\n",
    "| max_scenarios_per_log | Maximum number of scenarios extracted per log | `scenario_builder.nuplan.scenario_filter.max_scenarios_per_log` |\n",
    "| scenario_types | List of scenario types to be used | `scenario_builder.nuplan.scenario_filter.scenario_types` |\n",
    "| map_name | Filter out scenarios on a specific map | `scenario_builder.nuplan.scenario_filter.map_name` |\n",
    "| shuffle | Shuffle selected scenarios | `scenario_builder.nuplan.scenario_filter.shuffle` |\n",
    "| limit_scenarios_per_type | How many scenarios per type to keep (float = fraction, int = num) | `scenario_builder.nuplan.scenario_filter.limit_scenarios_per_type` |\n",
    "| subsample_ratio | Subsample a scenario relative to the database frequency (e.g. nominal freq @ 20Hz means 400 examples for 20s -> 2.5% subsample_ratio means 10 examples for 20s) | `scenario_builder.nuplan.scenario_filter.subsample_ratio` |\n",
    "| flatten_scenarios | Flatten scenarios (e.g. 10x 20-samples scenarios to 200x 1-sample scenarios) | `scenario_builder.nuplan.scenario_filter.flatten_scenarios` |\n",
    "| remove_invalid_goals | Remove scenarios with invalid goals (e.g on an intersection, exceeded max dist) | `scenario_builder.nuplan.scenario_filter.remove_invalid_goals` |\n",
    "| limit_total_scenarios | How many total scenarios to keep (float = fraction, int = num) | `scenario_builder.nuplan.scenario_filter.limit_total_scenarios` |"
   ]
  },
  {
   "cell_type": "markdown",
   "id": "94165f18",
   "metadata": {},
   "source": [
    "## Prepare the training config"
   ]
  },
  {
   "cell_type": "code",
   "execution_count": null,
   "id": "91971826",
   "metadata": {},
   "outputs": [],
   "source": [
    "# Location of path with all training configs\n",
    "CONFIG_PATH = '../script/config/training'\n",
    "CONFIG_NAME = 'default_training'\n",
    "\n",
    "# Create a temporary directory to store the cache and experiment artifacts\n",
    "save_dir = tempfile.mkdtemp()\n",
    "experiment_name = 'open_loop_experiment'\n",
    "log_dir = str(Path(save_dir) / experiment_name)\n",
    "\n",
    "# Initialize configuration management system\n",
    "hydra.core.global_hydra.GlobalHydra.instance().clear()\n",
    "hydra.initialize(config_path=CONFIG_PATH)\n",
    "\n",
    "# Compose the configuration\n",
    "cfg = hydra.compose(config_name=CONFIG_NAME, overrides=[\n",
    "    f'group={save_dir}',\n",
    "    f'cache_dir={save_dir}/cache',\n",
    "    f'experiment_name={experiment_name}',\n",
    "    'py_func=train',\n",
    "    '+training=training_raster_model',  # raster model that consumes ego, agents and map raster layers and regresses the ego's trajectory\n",
    "    'scenario_builder=nuplan_mini',  # use nuplan mini database (2h of 4 autolabeled logs in LV)\n",
    "    'splitter=nuplan',\n",
    "    'scenario_builder.nuplan.scenario_filter.limit_scenarios_per_type=0.1',  # sample 10% of the dataset\n",
    "    'scenario_builder.nuplan.scenario_filter.subsample_ratio=0.05',  # subsample 20s scenarios from 400 (20Hz) to 20 (1Hz) lidarpcs\n",
    "    'lightning.trainer.params.max_epochs=3',\n",
    "    'lightning.trainer.params.accelerator=ddp_spawn',  # ddp is not allowed in interactive environment, using ddp_spawn instead\n",
    "    'data_loader.params.batch_size=2',\n",
    "    'data_loader.params.num_workers=0',\n",
    "])"
   ]
  },
  {
   "cell_type": "markdown",
   "id": "80c39a1f",
   "metadata": {},
   "source": [
    "## Launch tensorboard for visualizing training artifacts"
   ]
  },
  {
   "cell_type": "code",
   "execution_count": null,
   "id": "5619f7b3",
   "metadata": {},
   "outputs": [],
   "source": [
    "%load_ext tensorboard\n",
    "%tensorboard --logdir {log_dir}"
   ]
  },
  {
   "cell_type": "markdown",
   "id": "3809ea48",
   "metadata": {},
   "source": [
    "## Launch training (within the notebook)"
   ]
  },
  {
   "cell_type": "code",
   "execution_count": null,
   "id": "ce60d003",
   "metadata": {},
   "outputs": [],
   "source": [
    "from nuplan.planning.script.run_training import main as main_train\n",
    "\n",
    "# Run the training loop, optionally inspect training artifacts through tensorboard (above cell)\n",
    "main_train(cfg)"
   ]
  },
  {
   "cell_type": "markdown",
   "id": "a4467a5d",
   "metadata": {},
   "source": [
    "## Launch training (command line - alternative)"
   ]
  },
  {
   "cell_type": "markdown",
   "id": "a73d50e8",
   "metadata": {},
   "source": [
    "A training experiment with the above same parameters can be launched alternatively with:\n",
    "```\n",
    "$ python nuplan_devkit/nuplan/planning/script/run_training.py \\\n",
    "    group=/data/exp/$USER/nuplan \\\n",
    "    cache_dir=/data/exp/$USER/cache \\\n",
    "    experiment_name=open_loop_experiment \\\n",
    "    py_func=train \\\n",
    "    +training=training_raster_model \\\n",
    "    scenario_builder=nuplan_mini \\\n",
    "    splitter=nuplan \\\n",
    "    scenario_builder.nuplan.scenario_filter.limit_scenarios_per_type=1.0 \\\n",
    "    scenario_builder.nuplan.scenario_filter.subsample_ratio=0.1 \\\n",
    "    lightning.trainer.params.max_epochs=5 \\\n",
    "    data_loader.params.batch_size=8 \\\n",
    "    data_loader.params.num_workers=8\n",
    "```"
   ]
  },
  {
   "cell_type": "markdown",
   "id": "9f92b3cb",
   "metadata": {},
   "source": [
    "# 2) Simulating a planner <a name=\"simulation\"></a>"
   ]
  },
  {
   "cell_type": "markdown",
   "id": "a44a88cf",
   "metadata": {},
   "source": [
    "## Open-loop simulation\n",
    "Open-loop simulation aims to evaluate the policy's capabilities to imitate the expert driver's behavior.<br />\n",
    "This is essentially done through log replay as the policy's predictions do not affect the state of the simulation.\n",
    "\n",
    "As the policy is not in full control of the vehicle, this type of simulation can only provide a high-level performance overview.\n",
    "\n",
    "## Closed-loop simulation\n",
    "Conversely, in closed-loop simulation the policy's actions alter the state of the simulation which tries to closely approximate the real-world system.\n",
    "\n",
    "The simulation's feedback loop enables a more in-depth evaluation of the policy as compounding errors can cause future observations to significantly diverge from the ground truth.<br />\n",
    "This is important in measuring distribution shifts introduced due to lack of variance in training examples through pure imitation learning.\n",
    "\n",
    "Closed-loop simulation is further divided into two categories:\n",
    "* ego closed-loop simulation with agents replayed from log (open-loop, non reactive)\n",
    "* ego closed-loop simulation with agents controlled by a rule-based or learned policy (closed-loop, reactive)\n",
    "\n",
    "## Measuring success\n",
    "Measuring the success of a planning task and comparing various planning policies is a complicated effort that involves defining metrics across different vertical dimensions and scenario categories.<br />\n",
    "These metrics include indicators such as vehicle dynamics, traffic rule violations, expert imitation, navigation success etc.<br />\n",
    "Overall, they aim to capture the policy's ability to control the autonomous vehicle safely yet efficiently without compromising the passenger's comfort."
   ]
  },
  {
   "cell_type": "markdown",
   "id": "6be15111",
   "metadata": {},
   "source": [
    "## Simulation parameters"
   ]
  },
  {
   "cell_type": "markdown",
   "id": "6683811d",
   "metadata": {},
   "source": [
    "### Planners\n",
    "\n",
    "Change the planner model with `planner=X` where `X` is a config yaml defined in the table below. \n",
    "\n",
    "| Planner | Description | Config |\n",
    "| --- | --- | --- |\n",
    "| Simple Planner | Naive planner that only plans a straight path | `simple_planner` |\n",
    "| Borromean Rings Planner | Internal rule-based planner | `borromean_rings` |\n",
    "| ML Planner (raster model) | Learning-based planner trained using the nuPlan training framework (see previous section) | `ml_planner`<br />`planner.checkpoint_path=\"<path_to_model_ckpt>\"`<br />`model=\"<selected model>\"`<br />`planner.model_config=\\${model}` |\n",
    "| ML Planner (vector model) | Learning-based planner trained using the nuPlan training framework (see previous section) | Coming soon... |\n",
    "\n",
    "<br />\n",
    "\n",
    "\n",
    "### Evaluation metrics\n",
    "\n",
    "Select evaluation metrics with `selected_simulation_metrics=[X, ...]` where `X` is a config yaml defined in the table below (by default all metrics are selected).\n",
    "\n",
    "| Metric | Description | Config |\n",
    "| --- | --- | --- |\n",
    "| Distance to goal | Distance to target goal pose | `ego_distance_to_goal_statistics` |\n",
    "| Angular velocity | Ego yaw rate | `ego_yaw_rate_statistics` |\n",
    "| Linear acceleration | Ego combined acceleration | `ego_acceleration_statistics` |\n",
    "| Angular acceleration | Ego yaw acceleration | `ego_yaw_acceleration_statistics` |\n",
    "| Longitudinal acceleration | Longitudinal component of the ego acceleration | `ego_lon_acceleration_statistics` |\n",
    "| Lateral acceleration | Lateral component of the ego acceleration | `ego_lat_acceleration_statistics` |\n",
    "| Linear jerk | Ego combined jerk | `ego_jerk_statistics` |\n",
    "| Longitudinal jerk | Longitudinal component of the ego jerk | `ego_lon_jerk_statistics` |\n",
    "| Lateral jerk | Lateral component of the ego jerk | `ego_lat_jerk_statistics` |\n",
    "| Minimum distance to agent | Minimum distance of ego to a track | `ego_min_distance_to_track_statistics` |\n",
    "| Time gap to leading agent | Time taken for the ego to close the gap if the lead agent were to abruptly stop | `time_gap_to_lead_agent` |\n",
    "| Time gap to trailing agent | Time taken for the ego to close the gap if the trail agent were to abruptly stop | `time_gap_to_rear_agent` |\n",
    "| Comfort | Aggregation of min/max velocity, acceleration & jerk across all components | `ego_is_comfortable_statistics` |\n",
    "\n",
    "<br />\n",
    "\n",
    "Scenario building and scenario filtering configs are the same for training and simulation (see the training section above)."
   ]
  },
  {
   "cell_type": "markdown",
   "id": "3ac087b1",
   "metadata": {},
   "source": [
    "## Prepare the simulation config"
   ]
  },
  {
   "cell_type": "code",
   "execution_count": null,
   "id": "3f245090",
   "metadata": {},
   "outputs": [],
   "source": [
    "# Location of path with all simulation configs\n",
    "CONFIG_PATH = '../script/config/simulation'\n",
    "CONFIG_NAME = 'default_simulation'\n",
    "\n",
    "# Create a temporary directory to store the simulation artifacts\n",
    "SAVE_DIR = tempfile.mkdtemp()\n",
    "\n",
    "# Select the planner and simulation challenge\n",
    "PLANNER = 'simple_planner'  # [simple_planner, borromean_rings, ml_planner]\n",
    "CHALLENGE = 'challenge_1_open_loop_boxes'  # [challenge_1_open_loop_boxes, challenge_3_closed_loop_nonreactive_agents, challenge_4_closed_loop_reactive_agents]\n",
    "DATASET_PARAMS = [\n",
    "    'scenario_builder=nuplan_mini',  # use nuplan mini database (2h of 4 autolabeled logs in LV)\n",
    "    'scenario_builder/nuplan/scenario_filter=one_continuous_log',  # simulate only one log\n",
    "    'scenario_builder.nuplan.scenario_filter.log_names=\"[2021.05.27.14.27.08_g1p-veh-2035]\"',  # select one log from test set of nuplan mini\n",
    "    'scenario_builder.nuplan.scenario_filter.limit_scenarios_per_type=50',  # use 50 scenarios per type\n",
    "    'scenario_builder.nuplan.scenario_filter.subsample_ratio=0.05',  # subsample 20s scenario from 20Hz to 1Hz\n",
    "]\n",
    "\n",
    "# Initialize configuration management system\n",
    "hydra.core.global_hydra.GlobalHydra.instance().clear()  # reinitialize hydra if already initialized\n",
    "hydra.initialize(config_path=CONFIG_PATH)\n",
    "\n",
    "# Compose the configuration\n",
    "cfg = hydra.compose(config_name=CONFIG_NAME, overrides=[\n",
    "    f'group={SAVE_DIR}',\n",
    "    f'planner={PLANNER}',\n",
    "    f'+simulation={CHALLENGE}',\n",
    "    *DATASET_PARAMS,\n",
    "])"
   ]
  },
  {
   "cell_type": "markdown",
   "id": "a181caba",
   "metadata": {},
   "source": [
    "## Launch simulation (within the notebook)"
   ]
  },
  {
   "cell_type": "code",
   "execution_count": null,
   "id": "b2f7a59a",
   "metadata": {},
   "outputs": [],
   "source": [
    "from nuplan.planning.script.run_simulation import main as main_simulation\n",
    "\n",
    "# Run the simulation loop (real-time visualization not yet supported, see next section for visualization)\n",
    "main_simulation(cfg)\n",
    "\n",
    "# Fetch the filesystem location of the simulation results file for visualization in nuBoard (next section)\n",
    "results_dir = list(list(Path(SAVE_DIR).iterdir())[0].iterdir())[0]  # get the child dir 2 levels in\n",
    "nuboard_file_1 = [str(file) for file in results_dir.iterdir() if file.is_file() and file.suffix == '.nuboard'][0]"
   ]
  },
  {
   "cell_type": "markdown",
   "id": "3830d474",
   "metadata": {},
   "source": [
    "## Launch simulation (command line - alternative)"
   ]
  },
  {
   "cell_type": "markdown",
   "id": "4fbe5708",
   "metadata": {},
   "source": [
    "A simulation experiment can be launched alternatively with:\n",
    "```\n",
    "$ python nuplan_devkit/nuplan/planning/script/run_simulation.py \\\n",
    "    +simulation=challenge_1_open_loop_boxes \\\n",
    "    planner=simple_planner \\\n",
    "    scenario_builder=nuplan_mini \\\n",
    "    scenario_builder/nuplan/scenario_filter=one_continuous_log \\\n",
    "    scenario_builder.nuplan.scenario_filter.log_names=\"[2021.05.27.14.27.08_g1p-veh-2035]\" \\\n",
    "    scenario_builder.nuplan.scenario_filter.limit_scenarios_per_type=50 \\\n",
    "    scenario_builder.nuplan.scenario_filter.subsample_ratio=0.1\n",
    "```\n",
    "\n",
    "The simple toy planner can be replaced by the ML planner model trained in the previous section."
   ]
  },
  {
   "cell_type": "markdown",
   "id": "a12044a7",
   "metadata": {},
   "source": [
    "## Simulate a pretrained ML planner for comparison\n",
    "\n",
    "Using the same simulation settings as before, we can simulate a pretrained ML planner and compare the two.\n",
    "\n",
    "Make sure to download the model using the instructions at the top."
   ]
  },
  {
   "cell_type": "code",
   "execution_count": null,
   "id": "4fd16636",
   "metadata": {},
   "outputs": [],
   "source": [
    "# Create a temporary directory to store the simulation artifacts\n",
    "SAVE_DIR = tempfile.mkdtemp()\n",
    "\n",
    "# Initialize configuration management system\n",
    "hydra.core.global_hydra.GlobalHydra.instance().clear()  # reinitialize hydra if already initialized\n",
    "hydra.initialize(config_path=CONFIG_PATH)\n",
    "\n",
    "# Compose the configuration\n",
    "cfg = hydra.compose(config_name=CONFIG_NAME, overrides=[\n",
    "    f'group={SAVE_DIR}',\n",
    "    'planner=ml_planner',\n",
    "    'model=raster_model',\n",
    "    'planner.model_config=${model}',\n",
    "    f'planner.ml_planner.checkpoint_path={MODEL_PATH}',  # this path can be replaced by the checkpoint of the model trained in the previous section\n",
    "    f'+simulation={CHALLENGE}',\n",
    "    *DATASET_PARAMS,\n",
    "])\n",
    "\n",
    "# Run the simulation loop\n",
    "main_simulation(cfg)\n",
    "\n",
    "# Fetch the filesystem location of the simulation results file for visualization in nuBoard (next section)\n",
    "results_dir = list(list(Path(SAVE_DIR).iterdir())[0].iterdir())[0]  # get the child dir 2 levels in\n",
    "nuboard_file_2 = [str(file) for file in results_dir.iterdir() if file.is_file() and file.suffix == '.nuboard'][0]"
   ]
  },
  {
   "cell_type": "markdown",
   "id": "3f673b25",
   "metadata": {},
   "source": [
    "# 3) Visualizing metrics and scenarios <a name=\"dashboard\"></a>"
   ]
  },
  {
   "cell_type": "markdown",
   "id": "8fda930f",
   "metadata": {},
   "source": [
    "## nuBoard summary\n",
    "\n",
    "Having trained and simulated planners across various scenarios and driving behaviors, it's time to evaluate them:\n",
    "* quantitatively, through common and scenario dependent metrics\n",
    "* qualitatively, through visualization of scenario progression\n",
    "\n",
    "### nuBoard tabs\n",
    "To achieve that, nuBoard has 3 core evaluation tabs:\n",
    "1. Overview - Scalar metrics summary of common and scenario metrics across the following categories:\n",
    "    * Ego dynamics\n",
    "    * Traffic violations\n",
    "    * Expert imitation\n",
    "    * Planning & navigation\n",
    "    * Scenario performance\n",
    "2. Histograms - Histograms over metric statistics for more a granular peek inside each metric focusing on:\n",
    "    * Metric statistics (e.g. min, max, p90)\n",
    "3. Scenarios - Low-level scenario visualizations:\n",
    "    * Time-series progression of a specific metric across a scenario\n",
    "    * Top-down visualization of the scenario across time for comparing predicted vs. expert trajectories\n",
    "\n",
    "In addition, there is a main configuration tab for selecting different simulation files for comparing planners/experiments.\n",
    "\n",
    "<br />\n",
    "\n",
    "**NOTE**: nuBoard is under heavy developement, overall functionality and aesthetics do not represent the final product!"
   ]
  },
  {
   "cell_type": "markdown",
   "id": "88b27d30",
   "metadata": {},
   "source": [
    "## Prepare the nuBoard config"
   ]
  },
  {
   "cell_type": "code",
   "execution_count": null,
   "id": "9b208c5b",
   "metadata": {},
   "outputs": [],
   "source": [
    "# Location of path with all nuBoard configs\n",
    "CONFIG_PATH = '../script/config/nuboard'\n",
    "CONFIG_NAME = 'default_nuboard'\n",
    "\n",
    "simulation_files = [\n",
    "    nuboard_file_1,\n",
    "    nuboard_file_2,  # comment out if the pretrained model simulation hasn't run\n",
    "]\n",
    "\n",
    "# Initialize configuration management system\n",
    "hydra.core.global_hydra.GlobalHydra.instance().clear()  # reinitialize hydra if already initialized\n",
    "hydra.initialize(config_path=CONFIG_PATH)\n",
    "\n",
    "# Compose the configuration\n",
    "cfg = hydra.compose(config_name=CONFIG_NAME, overrides=[\n",
    "    'scenario_builder=nuplan_mini',  # set the database (same as simulation) used to fetch data for visualization\n",
    "    f'simulation_path={simulation_files}',  # nuboard file path, if left empty the user can open the file inside nuBoard\n",
    "])"
   ]
  },
  {
   "cell_type": "markdown",
   "id": "1f9d90ef",
   "metadata": {},
   "source": [
    "## Launch nuBoard (embedded within the notebook - recommended)"
   ]
  },
  {
   "cell_type": "code",
   "execution_count": null,
   "id": "ed0c5250",
   "metadata": {
    "scrolled": false
   },
   "outputs": [],
   "source": [
    "from bokeh.io import show, output_notebook\n",
    "from nuplan.planning.script.run_nuboard import initialize_nuboard\n",
    "import os\n",
    "\n",
    "# Pass the CSS resources to the notebook\n",
    "cfg.bokeh.resource_prefix = '/notebooks/nuplan/planning/metrics/board/'\n",
    "\n",
    "# Run the nuBoard\n",
    "output_notebook()\n",
    "nuboard = initialize_nuboard(cfg)\n",
    "show(nuboard.main_page)"
   ]
  },
  {
   "cell_type": "markdown",
   "id": "a4c4558a",
   "metadata": {},
   "source": [
    "## Launch nuBoard (open in new tab - alternative)"
   ]
  },
  {
   "cell_type": "code",
   "execution_count": null,
   "id": "f959d00e",
   "metadata": {},
   "outputs": [],
   "source": [
    "from nuplan.planning.script.run_nuboard import main as main_nuboard\n",
    "\n",
    "# Run nuBoard\n",
    "main_nuboard(cfg)"
   ]
  },
  {
   "cell_type": "markdown",
   "id": "503793df",
   "metadata": {},
   "source": [
    "## Launch nuBoard (command line - alternative)"
   ]
  },
  {
   "cell_type": "markdown",
   "id": "991ef800",
   "metadata": {},
   "source": [
    "nuBoard can be launched alternatively with:\n",
    "```\n",
    "$ python ~/nuplan_devkit/nuplan/planning/script/run_nuboard.py\n",
    "```\n",
    "\n",
    "Simulation files (.nuboard) can be selected under the configuration tab."
   ]
  }
 ],
 "metadata": {
  "interpreter": {
   "hash": "5aea00fa936a67f14323fa2d54163d7dc1f328c617e433b03a680f73ee2dd426"
  },
  "kernelspec": {
   "display_name": "",
   "language": "python",
   "name": ""
  },
  "language_info": {
   "codemirror_mode": {
    "name": "ipython",
    "version": 3
   },
   "file_extension": ".py",
   "mimetype": "text/x-python",
   "name": "python",
   "nbconvert_exporter": "python",
   "pygments_lexer": "ipython3",
   "version": "3.9.7"
  }
 },
 "nbformat": 4,
 "nbformat_minor": 5
}
