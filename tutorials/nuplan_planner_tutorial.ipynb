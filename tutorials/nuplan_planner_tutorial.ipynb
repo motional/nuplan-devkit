{
 "cells": [
  {
   "cell_type": "markdown",
   "id": "63ae56b0",
   "metadata": {},
   "source": [
    "<img src=\"media/nuplan.png\" alt=\"Drawing\" style=\"width: 700px;\"/>"
   ]
  },
  {
   "cell_type": "markdown",
   "id": "34460db1",
   "metadata": {},
   "source": [
    "# Creating a new planner in nuPlan <a name=\"introduction\"></a>\n"
   ]
  },
  {
   "cell_type": "markdown",
   "id": "01b6b6ee",
   "metadata": {},
   "source": [
    "Welcome to nuPlan! In this tutorial we provide an example of implementing a new planner and running it in simulation."
   ]
  },
  {
   "cell_type": "markdown",
   "id": "f0189156",
   "metadata": {},
   "source": [
    "## Setup\n",
    "\n",
    "To be able to access all resources within this notebook, make sure Jupyter is launched at the root of this repo. The path of the notebook should be `~/nuplan-devkit/nuplan/tutorials"
   ]
  },
  {
   "cell_type": "code",
   "execution_count": null,
   "id": "13c00121",
   "metadata": {},
   "outputs": [],
   "source": [
    "# Increase notebook width\n",
    "from IPython.core.display import display, HTML\n",
    "display(HTML(\"<style>.output_result { max-width:100% !important; }</style>\"))\n",
    "display(HTML(\"<style>.container { width:100% !important; }</style>\"))"
   ]
  },
  {
   "cell_type": "code",
   "execution_count": null,
   "id": "779b0132",
   "metadata": {},
   "outputs": [],
   "source": [
    "# Useful imports\n",
    "import os\n",
    "from pathlib import Path\n",
    "import tempfile\n",
    "\n",
    "import hydra"
   ]
  },
  {
   "cell_type": "markdown",
   "id": "edf9156f",
   "metadata": {},
   "source": [
    "# 1) Creating the planner <a name=\"simulation\"></a>"
   ]
  },
  {
   "cell_type": "markdown",
   "id": "b21f4f69",
   "metadata": {},
   "source": [
    "We use the example of the SimplePlanner class to demonstrate creating a planner in nuPlan.\n",
    "\n",
    "Inheriting from AbstractPlanner, we implement methods for initialization, planner naming, and declaring the type of observations expected by compute_trajectory. We additionally implement a compute_trajectory method, the core behavior of the planner. \n",
    "\n",
    "In the case of SimplePlanner, we will just have the trajectory go straight. To accomplish this, we rely on a helper function, &lowbar;f_dot_kinematic_car, for computing the motion model."
   ]
  },
  {
   "cell_type": "code",
   "execution_count": null,
   "id": "d8f1b203",
   "metadata": {},
   "outputs": [],
   "source": [
    "from typing import List, Type\n",
    "\n",
    "import numpy as np\n",
    "import numpy.typing as npt\n",
    "\n",
    "from nuplan.actor_state.ego_state import DynamicCarState, EgoState\n",
    "from nuplan.actor_state.state_representation import StateSE2, StateVector2D, TimePoint\n",
    "from nuplan.actor_state.vehicle_parameters import VehicleParameters, get_pacifica_parameters\n",
    "from nuplan.maps.abstract_map import AbstractMap\n",
    "from nuplan.planning.simulation.history.simulation_history_buffer import SimulationHistoryBuffer\n",
    "from nuplan.planning.simulation.observation.observation_type import Detections, Observation\n",
    "from nuplan.planning.simulation.planner.abstract_planner import AbstractPlanner\n",
    "from nuplan.planning.simulation.simulation_manager.simulation_iteration import SimulationIteration\n",
    "from nuplan.planning.simulation.trajectory.interpolated import InterpolatedTrajectory\n",
    "from nuplan.planning.simulation.trajectory.trajectory import AbstractTrajectory\n",
    "\n",
    "\n",
    "def _f_dot_kinematic_car(state: EgoState, vehicle: VehicleParameters) -> EgoState:\n",
    "    \"\"\"\n",
    "    Compute x_dot = f(x) for a kinematic car\n",
    "\n",
    "    :param state for which to compute motion model\n",
    "    :param vehicle parameters\n",
    "    \"\"\"\n",
    "    lf = vehicle.front_length - vehicle.cog_position_from_rear_axle\n",
    "    lr = vehicle.rear_length + vehicle.cog_position_from_rear_axle\n",
    "    beta = np.arctan2(lr * np.tan(state.tire_steering_angle), (lr + lf))\n",
    "\n",
    "    car_speed = np.hypot(state.dynamic_car_state.rear_axle_velocity_2d.x,\n",
    "                         state.dynamic_car_state.rear_axle_velocity_2d.y)\n",
    "\n",
    "    return EgoState.from_raw_params(\n",
    "        pose=StateSE2(x=car_speed * np.cos(beta + state.rear_axle.heading),\n",
    "                      y=car_speed * np.sin(beta + state.rear_axle.heading),\n",
    "                      heading=(car_speed / lr) * np.sin(beta)),\n",
    "        velocity_2d=state.dynamic_car_state.rear_axle_acceleration_2d,\n",
    "        acceleration_2d=StateVector2D(0.0, 0.0),\n",
    "        tire_steering_angle=0.0,\n",
    "        time_point=state.time_point)\n",
    "\n",
    "\n",
    "class SimplePlanner(AbstractPlanner):\n",
    "    \"\"\"\n",
    "    Planner going straight\n",
    "    \"\"\"\n",
    "\n",
    "    def __init__(self,\n",
    "                 horizon_seconds: float = 10.0,\n",
    "                 sampling_time: float = 0.25,\n",
    "                 acceleration: npt.NDArray[np.float32] = [0.0, 0.0],  # x (longitudinal), y (lateral)\n",
    "                 max_velocity: float = 5.0,\n",
    "                 steering_angle: float = 0.0):\n",
    "        self.horizon_seconds = horizon_seconds\n",
    "        self.sampling_time = sampling_time\n",
    "        self.acceleration = StateVector2D(acceleration[0], acceleration[1])\n",
    "        self.max_velocity = max_velocity\n",
    "        self.steering_angle = steering_angle\n",
    "\n",
    "    def initialize(self,\n",
    "                   expert_goal_state: StateSE2,\n",
    "                   mission_goal: StateSE2,\n",
    "                   map_name: str,\n",
    "                   map_api: AbstractMap) -> None:\n",
    "        \"\"\" Inherited, see superclass. \"\"\"\n",
    "        pass\n",
    "\n",
    "    def name(self) -> str:\n",
    "        \"\"\" Inherited, see superclass. \"\"\"\n",
    "        return self.__class__.__name__\n",
    "\n",
    "    def observation_type(self) -> Type[Observation]:\n",
    "        \"\"\" Inherited, see superclass. \"\"\"\n",
    "        return Detections  # type: ignore\n",
    "\n",
    "    def compute_trajectory(self, iteration: SimulationIteration,\n",
    "                           history: SimulationHistoryBuffer) -> AbstractTrajectory:\n",
    "        \"\"\"\n",
    "        Implement a trajectory that goes straight.\n",
    "        Inherited, see superclass.\n",
    "        \"\"\"\n",
    "        ego_state = history.ego_states[-1]\n",
    "        state = EgoState(car_footprint=ego_state.car_footprint,\n",
    "                         dynamic_car_state=DynamicCarState(ego_state.car_footprint.rear_axle_to_center_dist,\n",
    "                                                           ego_state.dynamic_car_state.rear_axle_velocity_2d,\n",
    "                                                           self.acceleration),\n",
    "                         tire_steering_angle=self.steering_angle,\n",
    "                         time_point=ego_state.time_point)\n",
    "        trajectory: List[EgoState] = [state]\n",
    "        for time_in_future in np.arange(iteration.time_us + self.sampling_time * 1e6,\n",
    "                                        iteration.time_us + self.horizon_seconds * 1e6,\n",
    "                                        self.sampling_time * 1e6):\n",
    "\n",
    "            state_dot = _f_dot_kinematic_car(state, get_pacifica_parameters())\n",
    "            next_point_x = state.rear_axle.x + state_dot.rear_axle.x * self.sampling_time\n",
    "            next_point_y = state.rear_axle.y + state_dot.rear_axle.y * self.sampling_time\n",
    "            next_point_heading = state.rear_axle.heading + state_dot.rear_axle.heading * self.sampling_time\n",
    "\n",
    "            if state.dynamic_car_state.speed > self.max_velocity:\n",
    "                state_dot.velocity_x = 0.0\n",
    "                state_dot.velocity_y = 0.0\n",
    "\n",
    "            next_point_velocity_x = np.fmax(0, state.dynamic_car_state.rear_axle_velocity_2d.x +\n",
    "                                            state_dot.dynamic_car_state.rear_axle_acceleration_2d.x *\n",
    "                                            self.sampling_time)\n",
    "            next_point_velocity_y = np.fmax(0,\n",
    "                                            state.dynamic_car_state.rear_axle_velocity_2d.y +\n",
    "                                            state_dot.dynamic_car_state.rear_axle_acceleration_2d.y *\n",
    "                                            self.sampling_time)\n",
    "            state = EgoState.from_raw_params(\n",
    "                StateSE2(next_point_x, next_point_y, next_point_heading),\n",
    "                velocity_2d=StateVector2D(next_point_velocity_x,\n",
    "                                          next_point_velocity_y),\n",
    "                acceleration_2d=state.dynamic_car_state.rear_axle_acceleration_2d,\n",
    "                tire_steering_angle=state.tire_steering_angle,\n",
    "                time_point=TimePoint(time_in_future))\n",
    "\n",
    "            trajectory.append(state)\n",
    "\n",
    "        return InterpolatedTrajectory(trajectory)"
   ]
  },
  {
   "cell_type": "markdown",
   "id": "128b0d15",
   "metadata": {},
   "source": [
    "# 2) Simulating the planner <a name=\"simulation\"></a>"
   ]
  },
  {
   "cell_type": "markdown",
   "id": "ea5c4091",
   "metadata": {},
   "source": [
    "To run this planner in simulation, we prepare a simulation config file,"
   ]
  },
  {
   "cell_type": "code",
   "execution_count": null,
   "id": "11b08c6d",
   "metadata": {},
   "outputs": [],
   "source": [
    "# Location of paths with all simulation configs\n",
    "BASE_CONFIG_PATH = os.path.join(os.getenv('NUPLAN_TUTORIAL_PATH', ''), '../nuplan/planning/script')\n",
    "COMMON_DIR = \"file://\" + os.path.join(BASE_CONFIG_PATH, 'config', 'common')\n",
    "EXPERIMENT_DIR = \"file://\" + os.path.join(BASE_CONFIG_PATH, 'experiments')\n",
    "CONFIG_PATH = os.path.join(BASE_CONFIG_PATH, 'config', 'simulation')\n",
    "CONFIG_NAME = 'default_simulation'\n",
    "\n",
    "# Create a temporary directory to store the simulation artifacts\n",
    "SAVE_DIR = tempfile.mkdtemp()\n",
    "\n",
    "# Select simulation parameters\n",
    "EGO_CONTROLLER = 'log_play_back_controller'  # [log_play_back_controller, perfect_tracking_controller]\n",
    "OBSERVATION = 'box_observation'  # [box_observation, idm_agents_observation, lidar_pc_observation]\n",
    "DATASET_PARAMS = [\n",
    "    'scenario_builder=nuplan_mini',  # use nuplan mini database (2.5h of 8 autolabeled logs in Las Vegas)\n",
    "    'scenario_builder/nuplan/scenario_filter=one_continuous_log',  # simulate only one log\n",
    "    'scenario_builder.nuplan.scenario_filter.log_names=\"[2021.05.27.14.27.08_g1p-veh-2035]\"',  # select one log from test set of nuplan mini\n",
    "    'scenario_builder.nuplan.scenario_filter.limit_scenarios_per_type=50',  # use 50 scenarios per type\n",
    "    'scenario_builder.nuplan.scenario_filter.subsample_ratio=0.05',  # subsample 20s scenario from 20Hz to 1Hz\n",
    "]\n",
    "\n",
    "# Initialize configuration management system\n",
    "hydra.core.global_hydra.GlobalHydra.instance().clear()  # reinitialize hydra if already initialized\n",
    "hydra.initialize(config_path=CONFIG_PATH)\n",
    "\n",
    "# Compose the configuration\n",
    "cfg = hydra.compose(config_name=CONFIG_NAME, overrides=[\n",
    "    f'group={SAVE_DIR}',\n",
    "    f'experiment_name=planner_tutorial',\n",
    "    f'ego_controller={EGO_CONTROLLER}',\n",
    "    f'observation={OBSERVATION}',\n",
    "    f'hydra.searchpath=[{COMMON_DIR}, {EXPERIMENT_DIR}]',\n",
    "    *DATASET_PARAMS,\n",
    "])"
   ]
  },
  {
   "cell_type": "markdown",
   "id": "a58176c1",
   "metadata": {},
   "source": [
    "...instantiate the planner,"
   ]
  },
  {
   "cell_type": "code",
   "execution_count": null,
   "id": "db61f693",
   "metadata": {},
   "outputs": [],
   "source": [
    "planner = SimplePlanner()"
   ]
  },
  {
   "cell_type": "markdown",
   "id": "88231b74",
   "metadata": {},
   "source": [
    "...and launch the simulation."
   ]
  },
  {
   "cell_type": "code",
   "execution_count": null,
   "id": "161cc166",
   "metadata": {},
   "outputs": [],
   "source": [
    "from nuplan.planning.script.run_simulation import run_simulation as main_simulation\n",
    "\n",
    "\n",
    "# Run the simulation loop (real-time visualization not yet supported, see next section for visualization)\n",
    "main_simulation(cfg, planner)\n",
    "\n",
    "# Fetch the filesystem location of the simulation results file for visualization in nuBoard (next section)\n",
    "results_dir = list(list(Path(SAVE_DIR).iterdir())[0].iterdir())[0]  # get the child dir 2 levels in\n",
    "simulation_file = [str(file) for file in results_dir.iterdir() if file.is_file() and file.suffix == '.nuboard'][0]"
   ]
  },
  {
   "cell_type": "markdown",
   "id": "c53b9c2e",
   "metadata": {},
   "source": [
    "# 3) Visualization <a name=\"dashboard\"></a>"
   ]
  },
  {
   "cell_type": "markdown",
   "id": "b35ba011",
   "metadata": {},
   "source": [
    "To visualize and evaluate the planner using nuBoard, we first prepare the nuBoard config,"
   ]
  },
  {
   "cell_type": "code",
   "execution_count": null,
   "id": "24732d42",
   "metadata": {},
   "outputs": [],
   "source": [
    "# Location of path with all nuBoard configs\n",
    "CONFIG_PATH = os.path.join(BASE_CONFIG_PATH, 'config/nuboard')\n",
    "CONFIG_NAME = 'default_nuboard'\n",
    "\n",
    "\n",
    "# Initialize configuration management system\n",
    "hydra.core.global_hydra.GlobalHydra.instance().clear()  # reinitialize hydra if already initialized\n",
    "hydra.initialize(config_path=CONFIG_PATH)\n",
    "\n",
    "# Compose the configuration\n",
    "cfg = hydra.compose(config_name=CONFIG_NAME, overrides=[\n",
    "    'scenario_builder=nuplan_mini',  # set the database (same as simulation) used to fetch data for visualization\n",
    "    f'simulation_path={simulation_file}',  # nuboard file path, if left empty the user can open the file inside nuBoard\n",
    "    # Make sure that the notebook working directory is \"/notebooks\" and that Jupyter was launched at the root of the repo\n",
    "    'resource_prefix=/notebooks/nuplan/planning/nuboard/',  # hack to pass CSS resources to the notebook\n",
    "    f'hydra.searchpath=[{COMMON_DIR}, {EXPERIMENT_DIR}]',\n",
    "])"
   ]
  },
  {
   "cell_type": "markdown",
   "id": "8aba13e4",
   "metadata": {},
   "source": [
    "...and then launch nuBoard."
   ]
  },
  {
   "cell_type": "code",
   "execution_count": null,
   "id": "012b6750",
   "metadata": {
    "scrolled": true
   },
   "outputs": [],
   "source": [
    "from bokeh.io import show, output_notebook\n",
    "from nuplan.planning.script.run_nuboard import initialize_nuboard\n",
    "from nuplan.planning.script.run_nuboard import main as main_nuboard\n",
    "\n",
    "EMBED_NUBOARD = True  # set to False to launch in separate window\n",
    "\n",
    "# embed nuBoard in notebook\n",
    "if EMBED_NUBOARD:\n",
    "    # Run the nuBoard\n",
    "    output_notebook()\n",
    "    nuboard = initialize_nuboard(cfg)\n",
    "    show(nuboard.main_page)\n",
    "\n",
    "# launch nuBoard in separate window\n",
    "else:\n",
    "    # Run nuBoard\n",
    "    main_nuboard(cfg)"
   ]
  }
 ],
 "metadata": {
  "interpreter": {
   "hash": "5aea00fa936a67f14323fa2d54163d7dc1f328c617e433b03a680f73ee2dd426"
  },
  "kernelspec": {
   "display_name": "",
   "language": "python",
   "name": ""
  },
  "language_info": {
   "codemirror_mode": {
    "name": "ipython",
    "version": 3
   },
   "file_extension": ".py",
   "mimetype": "text/x-python",
   "name": "python",
   "nbconvert_exporter": "python",
   "pygments_lexer": "ipython3",
   "version": "3.9.7"
  }
 },
 "nbformat": 4,
 "nbformat_minor": 5
}
